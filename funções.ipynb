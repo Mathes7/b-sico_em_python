{
 "cells": [
  {
   "cell_type": "code",
   "execution_count": 1,
   "id": "e7a92bd0",
   "metadata": {},
   "outputs": [],
   "source": [
    "# função\n",
    "\n",
    "def simple():\n",
    "    print('My first function')"
   ]
  },
  {
   "cell_type": "code",
   "execution_count": 2,
   "id": "a4bc7d67",
   "metadata": {},
   "outputs": [
    {
     "name": "stdout",
     "output_type": "stream",
     "text": [
      "My first function\n"
     ]
    }
   ],
   "source": [
    "simple()"
   ]
  },
  {
   "cell_type": "code",
   "execution_count": 3,
   "id": "32abf071",
   "metadata": {},
   "outputs": [],
   "source": [
    "#somando com dez\n",
    "\n",
    "def plus_ten(a):\n",
    "    return a + 10"
   ]
  },
  {
   "cell_type": "code",
   "execution_count": 4,
   "id": "6f368d01",
   "metadata": {},
   "outputs": [
    {
     "data": {
      "text/plain": [
       "12"
      ]
     },
     "execution_count": 4,
     "metadata": {},
     "output_type": "execute_result"
    }
   ],
   "source": [
    "plus_ten(2)"
   ]
  },
  {
   "cell_type": "code",
   "execution_count": 5,
   "id": "140c9a47",
   "metadata": {},
   "outputs": [
    {
     "data": {
      "text/plain": [
       "25"
      ]
     },
     "execution_count": 5,
     "metadata": {},
     "output_type": "execute_result"
    }
   ],
   "source": [
    "plus_ten(15)"
   ]
  },
  {
   "cell_type": "code",
   "execution_count": 10,
   "id": "d06d1b68",
   "metadata": {},
   "outputs": [],
   "source": [
    "#somando com dez\n",
    "\n",
    "def plus_ten(a):\n",
    "    result = a + 10\n",
    "    print ('Outcome:')\n",
    "    return result"
   ]
  },
  {
   "cell_type": "code",
   "execution_count": 11,
   "id": "715f9ec3",
   "metadata": {},
   "outputs": [
    {
     "name": "stdout",
     "output_type": "stream",
     "text": [
      "Outcome:\n"
     ]
    },
    {
     "data": {
      "text/plain": [
       "12"
      ]
     },
     "execution_count": 11,
     "metadata": {},
     "output_type": "execute_result"
    }
   ],
   "source": [
    "plus_ten(2)"
   ]
  },
  {
   "cell_type": "code",
   "execution_count": 12,
   "id": "0fd9a370",
   "metadata": {},
   "outputs": [],
   "source": [
    "#salário por hora\n",
    "\n",
    "def wage(w_hours):\n",
    "    return w_hours * 25\n",
    "\n",
    "def with_bonus(w_hours):\n",
    "    return (wage(w_hours)) + 50"
   ]
  },
  {
   "cell_type": "code",
   "execution_count": 13,
   "id": "e3485398",
   "metadata": {},
   "outputs": [
    {
     "data": {
      "text/plain": [
       "(200, 250)"
      ]
     },
     "execution_count": 13,
     "metadata": {},
     "output_type": "execute_result"
    }
   ],
   "source": [
    "wage(8), with_bonus(8)"
   ]
  },
  {
   "cell_type": "code",
   "execution_count": 14,
   "id": "1bebce85",
   "metadata": {},
   "outputs": [],
   "source": [
    "# se Jony economizar 100 até o final da semana, ele ganha de dez reais\n",
    "\n",
    "def add_10(m):\n",
    "    if m >= 100:\n",
    "        m = m + 10\n",
    "        return m\n",
    "    else:\n",
    "        return 'Save more!'"
   ]
  },
  {
   "cell_type": "code",
   "execution_count": 15,
   "id": "061a3a0d",
   "metadata": {},
   "outputs": [
    {
     "data": {
      "text/plain": [
       "120"
      ]
     },
     "execution_count": 15,
     "metadata": {},
     "output_type": "execute_result"
    }
   ],
   "source": [
    "add_10(110)"
   ]
  },
  {
   "cell_type": "code",
   "execution_count": 16,
   "id": "2b766a98",
   "metadata": {},
   "outputs": [
    {
     "data": {
      "text/plain": [
       "'Save more!'"
      ]
     },
     "execution_count": 16,
     "metadata": {},
     "output_type": "execute_result"
    }
   ],
   "source": [
    "add_10(50)"
   ]
  },
  {
   "cell_type": "code",
   "execution_count": 21,
   "id": "7447e4cf",
   "metadata": {},
   "outputs": [],
   "source": [
    "# mais de um parametro em uma função\n",
    "\n",
    "def subtract_bc(a,b,c):\n",
    "    result = a -b*c\n",
    "    print ('Paramter a equals', a)\n",
    "    print ('Paramter b equals', b)\n",
    "    print ('Paramter c equals', c)\n",
    "    print ('Resultado:')\n",
    "    return result\n",
    "    "
   ]
  },
  {
   "cell_type": "code",
   "execution_count": 22,
   "id": "864f54df",
   "metadata": {},
   "outputs": [
    {
     "name": "stdout",
     "output_type": "stream",
     "text": [
      "Paramter a equals 10\n",
      "Paramter b equals 3\n",
      "Paramter c equals 2\n",
      "Resultado:\n"
     ]
    },
    {
     "data": {
      "text/plain": [
       "4"
      ]
     },
     "execution_count": 22,
     "metadata": {},
     "output_type": "execute_result"
    }
   ],
   "source": [
    "subtract_bc(10,3,2)"
   ]
  },
  {
   "cell_type": "code",
   "execution_count": null,
   "id": "4ba0c0a4",
   "metadata": {},
   "outputs": [],
   "source": []
  }
 ],
 "metadata": {
  "kernelspec": {
   "display_name": "Python 3 (ipykernel)",
   "language": "python",
   "name": "python3"
  },
  "language_info": {
   "codemirror_mode": {
    "name": "ipython",
    "version": 3
   },
   "file_extension": ".py",
   "mimetype": "text/x-python",
   "name": "python",
   "nbconvert_exporter": "python",
   "pygments_lexer": "ipython3",
   "version": "3.9.12"
  }
 },
 "nbformat": 4,
 "nbformat_minor": 5
}
